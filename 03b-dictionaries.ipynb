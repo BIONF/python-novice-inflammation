{
 "cells": [
  {
   "cell_type": "markdown",
   "metadata": {},
   "source": [
    "# Using Dictionaries"
   ]
  },
  {
   "cell_type": "markdown",
   "metadata": {},
   "source": [
    "So far we dealt with some different standard data types of Python, including numerical values (integers and floats), strings and lists. Additionally there were the arrays provided by *numpy*. There is one last, very important data type: Dictionaries (which can be though of as hashes, if you come from another programming language).\n",
    "\n",
    "The name *Dictionary* already gives you an idea of what this data type does: It stores values associated with a given key, just as a foreign language dictionary would do:"
   ]
  },
  {
   "cell_type": "code",
   "execution_count": 1,
   "metadata": {
    "collapsed": false
   },
   "outputs": [
    {
     "name": "stdout",
     "output_type": "stream",
     "text": [
      "Luftkissenboot\n"
     ]
    }
   ],
   "source": [
    "dictionary = {\"my\":\"mein\",\n",
    "              \"hovercraft\":\"Luftkissenboot\",\n",
    "              \"is\":\"ist\",\"full\":\"voll\",\"of\":\"von\",}\n",
    "print(dictionary[\"hovercraft\"])"
   ]
  },
  {
   "cell_type": "markdown",
   "metadata": {},
   "source": [
    "Accessing the values of a dictionary is similar to accessing a given position in a list, you pass it to the dictionary using square brackets. You can also use this to create new entries in your dictionary."
   ]
  },
  {
   "cell_type": "code",
   "execution_count": 2,
   "metadata": {
    "collapsed": false
   },
   "outputs": [
    {
     "ename": "KeyError",
     "evalue": "'eels'",
     "output_type": "error",
     "traceback": [
      "\u001b[0;31m---------------------------------------------------------------------------\u001b[0m\n\u001b[0;31mKeyError\u001b[0m                                  Traceback (most recent call last)",
      "\u001b[0;32m<ipython-input-2-e059547cb67b>\u001b[0m in \u001b[0;36m<module>\u001b[0;34m()\u001b[0m\n\u001b[0;32m----> 1\u001b[0;31m \u001b[0mdictionary\u001b[0m\u001b[0;34m[\u001b[0m\u001b[0;34m\"eels\"\u001b[0m\u001b[0;34m]\u001b[0m\u001b[0;34m\u001b[0m\u001b[0m\n\u001b[0m",
      "\u001b[0;31mKeyError\u001b[0m: 'eels'"
     ]
    }
   ],
   "source": [
    "dictionary[\"eels\"]"
   ]
  },
  {
   "cell_type": "markdown",
   "metadata": {},
   "source": [
    "The key *eels* does not exist yet, this is why we are getting a key error. So we create it."
   ]
  },
  {
   "cell_type": "code",
   "execution_count": 3,
   "metadata": {
    "collapsed": false
   },
   "outputs": [
    {
     "name": "stdout",
     "output_type": "stream",
     "text": [
      "Aale\n"
     ]
    }
   ],
   "source": [
    "dictionary[\"eels\"] = \"Aale\"\n",
    "print(dictionary[\"eels\"])"
   ]
  },
  {
   "cell_type": "markdown",
   "metadata": {},
   "source": [
    "To initialize an empty dictionary you can use `dictionary = {}`. You can use strings, integers and floats as your keys for the dictionary. Your values can be basically everything. It can also be a list or even a dictionary."
   ]
  },
  {
   "cell_type": "code",
   "execution_count": 4,
   "metadata": {
    "collapsed": false
   },
   "outputs": [
    {
     "name": "stdout",
     "output_type": "stream",
     "text": [
      "{'yes': 'that', 'works': 'as well'}\n"
     ]
    }
   ],
   "source": [
    "example_dictionary = {}\n",
    "\n",
    "example_dictionary[1.0] = \"1,0\"\n",
    "example_dictionary[2] = 1\n",
    "example_dictionary[\"list\"] = [\"yes\",\"this\",\"is\",\"possible\"]\n",
    "example_dictionary[\"another_dictionary?\"] = {\"yes\":\"that\",\"works\":\"as well\"}\n",
    "\n",
    "print(example_dictionary[\"another_dictionary?\"])"
   ]
  },
  {
   "cell_type": "markdown",
   "metadata": {},
   "source": [
    "**Unlike lists, dictionaries are not ordered. So if you loop over them you are not guaranteed that they will always have the same order.** \n",
    "\n",
    "By default the loop will iterate over the keys."
   ]
  },
  {
   "cell_type": "code",
   "execution_count": 5,
   "metadata": {
    "collapsed": false
   },
   "outputs": [
    {
     "name": "stdout",
     "output_type": "stream",
     "text": [
      "1.0\n",
      "2\n",
      "list\n",
      "another_dictionary?\n"
     ]
    }
   ],
   "source": [
    "for key in example_dictionary:\n",
    "    print(key)"
   ]
  },
  {
   "cell_type": "markdown",
   "metadata": {},
   "source": [
    "Often you want to have both, the key and value at the same time. For this you can use the dictionary function `.items()`: "
   ]
  },
  {
   "cell_type": "code",
   "execution_count": 6,
   "metadata": {
    "collapsed": false
   },
   "outputs": [
    {
     "name": "stdout",
     "output_type": "stream",
     "text": [
      "(1.0, '1,0')\n",
      "(2, 1)\n",
      "('list', ['yes', 'this', 'is', 'possible'])\n",
      "('another_dictionary?', {'yes': 'that', 'works': 'as well'})\n"
     ]
    }
   ],
   "source": [
    "for key,value in example_dictionary.items():\n",
    "    print(key,value)"
   ]
  },
  {
   "cell_type": "markdown",
   "metadata": {},
   "source": [
    "## Questions / Tasks"
   ]
  },
  {
   "cell_type": "markdown",
   "metadata": {},
   "source": [
    "* How does your dictionary look like when you fill it like this: `dictionary = {1.0 = \"a\", 1=\"b\"}`?\n",
    "* You have two files, `data/merge-1.csv` and `data/merge-2.csv`. Each line in the file looks like this: \n",
    "\n",
    "File 1\n",
    "```\n",
    "patient_a,1,0,2,3,4\n",
    "patient_b,2,3,1,0,23\n",
    "…\n",
    "```\n",
    "File 2\n",
    "```\n",
    "patient_c,3,0,1,1,2\n",
    "patient_a,4,5,3,0,2\n",
    "…\n",
    "```\n",
    "\n",
    "Each patient is represented in both files, but they are not ordered. You want to merge the data for each patient from the two files into a single one and save the output."
   ]
  },
  {
   "cell_type": "code",
   "execution_count": null,
   "metadata": {
    "collapsed": false
   },
   "outputs": [],
   "source": []
  }
 ],
 "metadata": {
  "kernelspec": {
   "display_name": "Python 3",
   "language": "python",
   "name": "python3"
  },
  "language_info": {
   "codemirror_mode": {
    "name": "ipython",
    "version": 3
   },
   "file_extension": ".py",
   "mimetype": "text/x-python",
   "name": "python",
   "nbconvert_exporter": "python",
   "pygments_lexer": "ipython3",
   "version": "3.4.3"
  }
 },
 "nbformat": 4,
 "nbformat_minor": 0
}
