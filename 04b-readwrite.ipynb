{
 "cells": [
  {
   "cell_type": "markdown",
   "metadata": {},
   "source": [
    "# Reading (and Writing) Files without numpy"
   ]
  },
  {
   "cell_type": "markdown",
   "metadata": {},
   "source": [
    "Sometimes you will want to read files without relying on external libraries. This can be achieved using the standard Python function `open`, which (surprise) opens a file so that you can either read or write it.  "
   ]
  },
  {
   "cell_type": "code",
   "execution_count": 1,
   "metadata": {
    "collapsed": false
   },
   "outputs": [],
   "source": [
    "file_to_read = open(\"data/inflammation-01.csv\",\"r\") # this opens it with read-access\n",
    "file_to_write = open(\"data/inflammation-new.csv\",\"w\") # this opens it with write-access"
   ]
  },
  {
   "cell_type": "markdown",
   "metadata": {},
   "source": [
    "If you `open` a file with write-access it will overwrite any existing files! If you want to append new things to an existing file use *`a`* rather than `w`. \n",
    "\n",
    "Since Python 3 there is also `x` as a possible mode, which writes to a file only if it doesn't exist already, this should prevent many tears that otherwise would have been shed over lost data."
   ]
  },
  {
   "cell_type": "code",
   "execution_count": 2,
   "metadata": {
    "collapsed": false
   },
   "outputs": [
    {
     "ename": "FileExistsError",
     "evalue": "[Errno 17] File exists: 'data/inflammation-new.csv'",
     "output_type": "error",
     "traceback": [
      "\u001b[0;31m---------------------------------------------------------------------------\u001b[0m",
      "\u001b[0;31mFileExistsError\u001b[0m                           Traceback (most recent call last)",
      "\u001b[0;32m<ipython-input-2-73e8b8c4ffe8>\u001b[0m in \u001b[0;36m<module>\u001b[0;34m()\u001b[0m\n\u001b[1;32m      1\u001b[0m \u001b[0mfile_to_append\u001b[0m \u001b[0;34m=\u001b[0m \u001b[0mopen\u001b[0m\u001b[0;34m(\u001b[0m\u001b[0;34m\"data/inflammation-new.csv\"\u001b[0m\u001b[0;34m,\u001b[0m\u001b[0;34m\"a\"\u001b[0m\u001b[0;34m)\u001b[0m \u001b[0;31m# append\u001b[0m\u001b[0;34m\u001b[0m\u001b[0m\n\u001b[0;32m----> 2\u001b[0;31m \u001b[0mfile_to_write\u001b[0m \u001b[0;34m=\u001b[0m \u001b[0mopen\u001b[0m\u001b[0;34m(\u001b[0m\u001b[0;34m\"data/inflammation-new.csv\"\u001b[0m\u001b[0;34m,\u001b[0m\u001b[0;34m\"x\"\u001b[0m\u001b[0;34m)\u001b[0m \u001b[0;31m# write if not existing\u001b[0m\u001b[0;34m\u001b[0m\u001b[0m\n\u001b[0m",
      "\u001b[0;31mFileExistsError\u001b[0m: [Errno 17] File exists: 'data/inflammation-new.csv'"
     ]
    }
   ],
   "source": [
    "file_to_append = open(\"data/inflammation-new.csv\",\"a\") # append\n",
    "file_to_write = open(\"data/inflammation-new.csv\",\"x\") # write if not existing"
   ]
  },
  {
   "cell_type": "markdown",
   "metadata": {},
   "source": [
    "\n",
    "Now that we've opened our file, what can we do with it in order to read the contents. Python allows for two easy ways to read a file, line-by-line. Let's discuss the easiest way first:"
   ]
  },
  {
   "cell_type": "code",
   "execution_count": 3,
   "metadata": {
    "collapsed": false
   },
   "outputs": [
    {
     "name": "stdout",
     "output_type": "stream",
     "text": [
      "['0,0,1,3,1,2,4,7,8,3,3,3,10,5,7,4,7,7,12,18,6,13,11,11,7,7,4,6,8,8,4,4,5,7,3,4,2,3,0,0\\n', '0,1,2,1,2,1,3,2,2,6,10,11,5,9,4,4,7,16,8,6,18,4,12,5,12,7,11,5,11,3,3,5,4,4,5,5,1,1,0,1\\n']\n"
     ]
    }
   ],
   "source": [
    "file_to_read = open(\"data/inflammation-01.csv\",\"r\")\n",
    "file_content = file_to_read.readlines()\n",
    "print(file_content[:2])"
   ]
  },
  {
   "cell_type": "markdown",
   "metadata": {},
   "source": [
    "Using the `readlines()` function of an open file you can read in the whole content of the file in one go. The output of this function is a list in which each list item represents a single line of your file. "
   ]
  },
  {
   "cell_type": "code",
   "execution_count": 4,
   "metadata": {
    "collapsed": false
   },
   "outputs": [
    {
     "name": "stdout",
     "output_type": "stream",
     "text": [
      "['0,0,1,3,1,2,4,7,8,3,3,3,10,5,7,4,7,7,12,18,6,13,11,11,7,7,4,6,8,8,4,4,5,7,3,4,2,3,0,0\\n']\n"
     ]
    }
   ],
   "source": [
    "print([file_content[0]])"
   ]
  },
  {
   "cell_type": "markdown",
   "metadata": {},
   "source": [
    "If you look at a single line in your resulting list you will notice that they all end with a `\\n`. This is a special character denoting the end of a line, also called *line break*. (Depending on whether you use MacOS or Windows this can also be either a `\\r` or even a `\\r\\n`.\n",
    "\n",
    "Python comes with a function to remove those trailing special characters, which you can use on strings, called `strip()`"
   ]
  },
  {
   "cell_type": "code",
   "execution_count": 5,
   "metadata": {
    "collapsed": false,
    "scrolled": true
   },
   "outputs": [
    {
     "name": "stdout",
     "output_type": "stream",
     "text": [
      "['0,0,1,3,1,2,4,7,8,3,3,3,10,5,7,4,7,7,12,18,6,13,11,11,7,7,4,6,8,8,4,4,5,7,3,4,2,3,0,0\\n']\n",
      "['0,0,1,3,1,2,4,7,8,3,3,3,10,5,7,4,7,7,12,18,6,13,11,11,7,7,4,6,8,8,4,4,5,7,3,4,2,3,0,0']\n"
     ]
    }
   ],
   "source": [
    "print([file_content[0]])\n",
    "print([file_content[0].strip()])"
   ]
  },
  {
   "cell_type": "markdown",
   "metadata": {},
   "source": [
    "Unlike when using `numpy` we now have the trouble that our measurements for each patient are still a single string instead of separate, numeric entries. Python strings offers the function `split()` to deal with this. "
   ]
  },
  {
   "cell_type": "code",
   "execution_count": 6,
   "metadata": {
    "collapsed": false
   },
   "outputs": [
    {
     "name": "stdout",
     "output_type": "stream",
     "text": [
      "0,0,1,3,1,2,4,7,8,3,3,3,10,5,7,4,7,7,12,18,6,13,11,11,7,7,4,6,8,8,4,4,5,7,3,4,2,3,0,0\n",
      "['0', '0', '1', '3', '1', '2', '4', '7', '8', '3', '3', '3', '10', '5', '7', '4', '7', '7', '12', '18', '6', '13', '11', '11', '7', '7', '4', '6', '8', '8', '4', '4', '5', '7', '3', '4', '2', '3', '0', '0']\n"
     ]
    }
   ],
   "source": [
    "line = file_content[0].strip()\n",
    "print(line)\n",
    "splitted_line = line.split(\",\")\n",
    "print(splitted_line)"
   ]
  },
  {
   "cell_type": "markdown",
   "metadata": {},
   "source": [
    "Split accepts a single parameter, allowing you to specify the character on which the string should be split. (If you need to split at a `TAB` use `\\t` as the special character). \n",
    "\n",
    "Unfortunately this still doesn't give us what we were looking for, as the individual measurements are still strings and not numbers. We now could loop over each item in `splitted_line` and change the type, but that would be cumbersome. Instead we can use a trick, called *list comprehensions*, which allows to perform operations on each element in a list:"
   ]
  },
  {
   "cell_type": "code",
   "execution_count": 7,
   "metadata": {
    "collapsed": false
   },
   "outputs": [
    {
     "name": "stdout",
     "output_type": "stream",
     "text": [
      "[0.0, 0.0, 1.0, 3.0, 1.0, 2.0, 4.0, 7.0, 8.0, 3.0, 3.0, 3.0, 10.0, 5.0, 7.0, 4.0, 7.0, 7.0, 12.0, 18.0, 6.0, 13.0, 11.0, 11.0, 7.0, 7.0, 4.0, 6.0, 8.0, 8.0, 4.0, 4.0, 5.0, 7.0, 3.0, 4.0, 2.0, 3.0, 0.0, 0.0]\n"
     ]
    }
   ],
   "source": [
    "line = file_content[0].strip()\n",
    "converted_line = [float(element) for element in line.split(\",\")]\n",
    "print(converted_line)"
   ]
  },
  {
   "cell_type": "markdown",
   "metadata": {},
   "source": [
    "Earlier we talked about there being two ways to read in a file. Using `.readlines()` will read in the complete file content at the same time. Depending on the file size this can be a problem for your computers memory and you would rather go line by line. To achieve this you can easily just create a `for` loop using your opened file."
   ]
  },
  {
   "cell_type": "code",
   "execution_count": 8,
   "metadata": {
    "collapsed": false
   },
   "outputs": [
    {
     "name": "stdout",
     "output_type": "stream",
     "text": [
      "0,0,1\n",
      "0,1,2\n"
     ]
    }
   ],
   "source": [
    "for line in open(\"data/small-01.csv\",\"r\"):\n",
    "    print(line.strip())"
   ]
  },
  {
   "cell_type": "markdown",
   "metadata": {},
   "source": [
    "Together with `open(filename,\"w\")` this will allow you to manipulate the content of a file and write the output of the manipulation without the need to store everything in the active memory at once. \n",
    "\n",
    "This will also allow you to perform operations on each line in a single go."
   ]
  },
  {
   "cell_type": "code",
   "execution_count": 9,
   "metadata": {
    "collapsed": false
   },
   "outputs": [
    {
     "name": "stdout",
     "output_type": "stream",
     "text": [
      "[0.0, 0.0, 1.0]\n",
      "[0.0, 1.0, 2.0]\n"
     ]
    }
   ],
   "source": [
    "for line in open(\"data/small-01.csv\",\"r\"):\n",
    "    processed_line = [float(element) for element in line.strip().split(\",\")]\n",
    "    print(processed_line)"
   ]
  },
  {
   "cell_type": "markdown",
   "metadata": {},
   "source": [
    "If you didn't use the `for line in open()` structure but assigned a variable to your open file (e.g. `myfile = open(\"data/small-01.csv\")`) you will have to close your file. \n",
    "\n",
    "For writing files this is also the point in time when your output is actually written to the file."
   ]
  },
  {
   "cell_type": "code",
   "execution_count": 10,
   "metadata": {
    "collapsed": false
   },
   "outputs": [],
   "source": [
    "my_file = open(\"data/small-01.csv\",\"r\")\n",
    "lines = my_file.readlines()\n",
    "my_file.close()"
   ]
  },
  {
   "cell_type": "markdown",
   "metadata": {},
   "source": [
    "Now let's try writing something to a file and read it back in."
   ]
  },
  {
   "cell_type": "code",
   "execution_count": 11,
   "metadata": {
    "collapsed": false
   },
   "outputs": [
    {
     "name": "stdout",
     "output_type": "stream",
     "text": [
      "['this is some text.\\n', ' and here is some more.']\n"
     ]
    }
   ],
   "source": [
    "file_to_write = open(\"data/inflammation-new.csv\",\"w\") \n",
    "file_to_write.write(\"this is some text.\\n and here is some more.\")\n",
    "file_to_write.close()\n",
    "\n",
    "file_to_read = open(\"data/inflammation-new.csv\",\"r\")\n",
    "lines = file_to_read.readlines()\n",
    "print(lines)"
   ]
  },
  {
   "cell_type": "markdown",
   "metadata": {},
   "source": [
    "Ok, this worked just fine. But what happens if we try to write one of our processed lines to a new file?"
   ]
  },
  {
   "cell_type": "code",
   "execution_count": 12,
   "metadata": {
    "collapsed": false,
    "scrolled": true
   },
   "outputs": [
    {
     "ename": "TypeError",
     "evalue": "must be str, not list",
     "output_type": "error",
     "traceback": [
      "\u001b[0;31m---------------------------------------------------------------------------\u001b[0m",
      "\u001b[0;31mTypeError\u001b[0m                                 Traceback (most recent call last)",
      "\u001b[0;32m<ipython-input-12-b1ccf2d7b74e>\u001b[0m in \u001b[0;36m<module>\u001b[0;34m()\u001b[0m\n\u001b[1;32m      1\u001b[0m \u001b[0mprocessed_line\u001b[0m \u001b[0;34m=\u001b[0m \u001b[0;34m[\u001b[0m\u001b[0;36m0.0\u001b[0m\u001b[0;34m,\u001b[0m \u001b[0;36m0.0\u001b[0m\u001b[0;34m,\u001b[0m \u001b[0;36m1.0\u001b[0m\u001b[0;34m]\u001b[0m\u001b[0;34m\u001b[0m\u001b[0m\n\u001b[1;32m      2\u001b[0m \u001b[0mfile_to_write\u001b[0m \u001b[0;34m=\u001b[0m \u001b[0mopen\u001b[0m\u001b[0;34m(\u001b[0m\u001b[0;34m\"data/inflammation-new.csv\"\u001b[0m\u001b[0;34m,\u001b[0m\u001b[0;34m\"w\"\u001b[0m\u001b[0;34m)\u001b[0m\u001b[0;34m\u001b[0m\u001b[0m\n\u001b[0;32m----> 3\u001b[0;31m \u001b[0mfile_to_write\u001b[0m\u001b[0;34m.\u001b[0m\u001b[0mwrite\u001b[0m\u001b[0;34m(\u001b[0m\u001b[0mprocessed_line\u001b[0m\u001b[0;34m)\u001b[0m\u001b[0;34m\u001b[0m\u001b[0m\n\u001b[0m",
      "\u001b[0;31mTypeError\u001b[0m: must be str, not list"
     ]
    }
   ],
   "source": [
    "processed_line = [0.0, 0.0, 1.0]\n",
    "file_to_write = open(\"data/inflammation-new.csv\",\"w\") \n",
    "file_to_write.write(processed_line)\n"
   ]
  },
  {
   "cell_type": "markdown",
   "metadata": {},
   "source": [
    "We can only write strings to a file, this is why it does not work. In order to write our processed data we have to reconvert each element of the list into a string. We can again use list comprehensions to do this. \n",
    "\n",
    "To convert a list into a comma-separated string we can use the `join()` function."
   ]
  },
  {
   "cell_type": "code",
   "execution_count": 13,
   "metadata": {
    "collapsed": false
   },
   "outputs": [
    {
     "name": "stdout",
     "output_type": "stream",
     "text": [
      "['0.0', '0.0', '1.0']\n",
      "0.0,0.0,1.0\n",
      "a NEXTELEMENT b NEXTELEMENT c\n"
     ]
    }
   ],
   "source": [
    "processed_line = [0.0, 0.0, 1.0]\n",
    "processed_line = [str(element) for element in processed_line]\n",
    "print(processed_line)\n",
    "\n",
    "processed_line = \",\".join(processed_line)\n",
    "print(processed_line)\n",
    "\n",
    "# you can not only use \",\". Every string is ok!\n",
    "print(\" NEXTELEMENT \".join([\"a\",\"b\",\"c\"]))"
   ]
  },
  {
   "cell_type": "markdown",
   "metadata": {},
   "source": [
    "## Questions / Tasks"
   ]
  },
  {
   "cell_type": "markdown",
   "metadata": {},
   "source": [
    " * What happens if you just write the lines generated by the following command into a new file? And how can you amend the problem?"
   ]
  },
  {
   "cell_type": "code",
   "execution_count": null,
   "metadata": {
    "collapsed": false
   },
   "outputs": [],
   "source": [
    "for line in open(\"data/small-01.csv\",\"r\"):\n",
    "    processed_line = [float(element) for element in line.strip().split(\",\")]"
   ]
  },
  {
   "cell_type": "markdown",
   "metadata": {},
   "source": [
    "* You run the following code, what happens? Is it what you expected?"
   ]
  },
  {
   "cell_type": "code",
   "execution_count": null,
   "metadata": {
    "collapsed": false,
    "scrolled": true
   },
   "outputs": [],
   "source": [
    "my_file = open(\"data/small-01.csv\",\"r\")\n",
    "file_content = my_file.readlines()\n",
    "print(file_content[0])\n",
    " \n",
    "for line in my_file:\n",
    "    print(line)"
   ]
  },
  {
   "cell_type": "markdown",
   "metadata": {
    "collapsed": true
   },
   "source": [
    "* You have two files, `data/merge-1.csv` and `data/merge-2.csv`. Each line in the file looks like this: \n",
    "\n",
    "File 1\n",
    "```\n",
    "patient_a,1,0,2,3,4\n",
    "patient_b,2,3,1,0,23\n",
    "…\n",
    "```\n",
    "File 2\n",
    "```\n",
    "patient_c,3,0,1,1,2\n",
    "patient_a,4,5,3,0,2\n",
    "…\n",
    "```\n",
    "\n",
    "Each patient is represented in both files, but they are not ordered. You want to merge the data for each patient from the two files into a single one and save the output."
   ]
  },
  {
   "cell_type": "code",
   "execution_count": null,
   "metadata": {
    "collapsed": true
   },
   "outputs": [],
   "source": []
  }
 ],
 "metadata": {
  "kernelspec": {
   "display_name": "Python 3",
   "language": "python",
   "name": "python3"
  },
  "language_info": {
   "codemirror_mode": {
    "name": "ipython",
    "version": 3
   },
   "file_extension": ".py",
   "mimetype": "text/x-python",
   "name": "python",
   "nbconvert_exporter": "python",
   "pygments_lexer": "ipython3",
   "version": "3.4.3"
  }
 },
 "nbformat": 4,
 "nbformat_minor": 0
}
