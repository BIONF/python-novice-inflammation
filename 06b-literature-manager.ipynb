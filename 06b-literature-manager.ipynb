{
 "cells": [
  {
   "cell_type": "markdown",
   "metadata": {},
   "source": [
    "# Literature screen"
   ]
  },
  {
   "cell_type": "markdown",
   "metadata": {},
   "source": [
    "## Idea of this exercise is the screening of a PDF library for publications matching certain search criteria. The papers will be analyzed for their content of the search terms and a graphical output is produced that helps in paper selection."
   ]
  },
  {
   "cell_type": "markdown",
   "metadata": {},
   "source": [
    "### 1) Find all PDF documents in a given directory"
   ]
  },
  {
   "cell_type": "markdown",
   "metadata": {},
   "source": [
    "We use here again the function _glob()_ from the module **glob**. Remember, _glob()_ has the advantage over other methods (e.g. function **os.**_listdir()_) that you can filter for files matching a certain pattern. I our case we will attempt to get a list of all documents ending with _.pdf_."
   ]
  },
  {
   "cell_type": "markdown",
   "metadata": {},
   "source": [
    "**1.1** First, we need to specify the _path_ where we want to look for pdf files. Next, we need to define the search pattern _pattern_ that matches for all PDF documents. We will use the file ending **.pdf**.\n",
    "\n",
    "**What is new?**\n",
    "* basically nothing. Just recall how to concatenate strings"
   ]
  },
  {
   "cell_type": "code",
   "execution_count": 5,
   "metadata": {},
   "outputs": [
    {
     "name": "stdout",
     "output_type": "stream",
     "text": [
      "I will look for files ending with *pdf in the directory data/pdf-exercise/pdflib \n",
      "\n"
     ]
    }
   ],
   "source": [
    "import glob\n",
    "\n",
    "pdfpath = 'data/pdf-exercise/pdflib'\n",
    "pattern = '*pdf' ## our search pattern\n",
    "combined = pdfpath + '/' + pattern ## concatenate the path with the search pattern into one string \n",
    "print (\"I will look for files ending with\", pattern, \"in the directory\", pdfpath, \"\\n\") "
   ]
  },
  {
   "cell_type": "markdown",
   "metadata": {},
   "source": [
    "**1.2** In this step we extract the filenames of all files ending with **.pdf** in out directory _path_.\n",
    "\n",
    "** What is new?**\n",
    "* Nothing, just recall what glob.glob() is doing"
   ]
  },
  {
   "cell_type": "code",
   "execution_count": 6,
   "metadata": {},
   "outputs": [
    {
     "name": "stdout",
     "output_type": "stream",
     "text": [
      "['data/pdf-exercise/pdflib/art%3A10.1186%2F1471-2148-8-327.pdf', 'data/pdf-exercise/pdflib/art%3A10.1186%2F1471-2148-8-90.pdf', 'data/pdf-exercise/pdflib/art%3A10.1186%2F1471-2148-8-95.pdf', 'data/pdf-exercise/pdflib/art%3A10.1186%2Fs12862-016-0593-4.pdf', 'data/pdf-exercise/pdflib/art%3A10.1186%2Fs12862-016-0599-y.pdf', 'data/pdf-exercise/pdflib/art%3A10.1186%2Fs12862-016-0609-0.pdf', 'data/pdf-exercise/pdflib/art%3A10.1186%2Fs12864-016-2438-3.pdf', 'data/pdf-exercise/pdflib/art%3A10.1186%2Fs12864-016-2447-2.pdf', 'data/pdf-exercise/pdflib/art%3A10.1186%2Fs12864-016-2449-0.pdf', 'data/pdf-exercise/pdflib/art%3A10.1186%2Fs12864-016-2458-z.pdf', 'data/pdf-exercise/pdflib/art%3A10.1186%2Fs12898-016-0056-1.pdf', 'data/pdf-exercise/pdflib/art%3A10.1186%2Fs12898-016-0057-0.pdf', 'data/pdf-exercise/pdflib/art%3A10.1186%2Fs12898-016-0058-z.pdf', 'data/pdf-exercise/pdflib/art%3A10.1186%2Fs12898-016-0059-y.pdf', 'data/pdf-exercise/pdflib/Koestler2010.BMCBioinf.pdf', 'data/pdf-exercise/pdflib/Nehrt2011.PloSCompBiol.pdf', 'data/pdf-exercise/pdflib/Nikolenko2013.BMCGenomics.pdf']\n"
     ]
    }
   ],
   "source": [
    "dircont = glob.glob(combined)\n",
    "print(dircont)"
   ]
  },
  {
   "cell_type": "markdown",
   "metadata": {},
   "source": [
    "**1.3** Next, we want to reformat the list _dircont_ such that we only retain the filenames. We will use a split command here, putting the output into a list called _path_, and a string variable called _file_. Note the use of the asterisk in front of the variable _path_!\n",
    "\n",
    "**What is new?**\n",
    "* The results of the split command are placed into two variables, the list _dirpath_ (indicated by the asterisk!), and the str variable _file_. This syntax places everything but the last element resulting from the split command into the list _dirpath_. The last element will be stored in the variable _file_."
   ]
  },
  {
   "cell_type": "code",
   "execution_count": 7,
   "metadata": {},
   "outputs": [
    {
     "name": "stdout",
     "output_type": "stream",
     "text": [
      "art%3A10.1186%2F1471-2148-8-327.pdf\n",
      "art%3A10.1186%2F1471-2148-8-90.pdf\n",
      "art%3A10.1186%2F1471-2148-8-95.pdf\n",
      "art%3A10.1186%2Fs12862-016-0593-4.pdf\n",
      "art%3A10.1186%2Fs12862-016-0599-y.pdf\n",
      "art%3A10.1186%2Fs12862-016-0609-0.pdf\n",
      "art%3A10.1186%2Fs12864-016-2438-3.pdf\n",
      "art%3A10.1186%2Fs12864-016-2447-2.pdf\n",
      "art%3A10.1186%2Fs12864-016-2449-0.pdf\n",
      "art%3A10.1186%2Fs12864-016-2458-z.pdf\n",
      "art%3A10.1186%2Fs12898-016-0056-1.pdf\n",
      "art%3A10.1186%2Fs12898-016-0057-0.pdf\n",
      "art%3A10.1186%2Fs12898-016-0058-z.pdf\n",
      "art%3A10.1186%2Fs12898-016-0059-y.pdf\n",
      "Koestler2010.BMCBioinf.pdf\n",
      "Nehrt2011.PloSCompBiol.pdf\n",
      "Nikolenko2013.BMCGenomics.pdf\n"
     ]
    }
   ],
   "source": [
    "filelist = [] ## initialize an empty list\n",
    "for file in dircont:\n",
    "    if \"/\" in file: ## Execute the block only if the filename is preceeded by a path\n",
    "        *dirpath, file = file.split(\"/\")\n",
    "    else:\n",
    "        pass\n",
    "    print (file)\n",
    "    filelist.append(file)"
   ]
  },
  {
   "cell_type": "markdown",
   "metadata": {},
   "source": [
    "### 2) Convert a PDF (binary) into a human readable txt file (human readable). \n",
    "To achieve this we need to first see how to execute an external program from within our Python code. We will use the module **subprocess** for this purpose.\n"
   ]
  },
  {
   "cell_type": "markdown",
   "metadata": {},
   "source": [
    "**2.1** Let's first import the module into our script. "
   ]
  },
  {
   "cell_type": "code",
   "execution_count": 4,
   "metadata": {},
   "outputs": [],
   "source": [
    "import subprocess"
   ]
  },
  {
   "cell_type": "markdown",
   "metadata": {},
   "source": [
    "**2.2** We next specify the program that we want to call from our script. Here we use exemplarily _ls_ to list the contents of a directory. Note, this is another way to access directory contents..."
   ]
  },
  {
   "cell_type": "code",
   "execution_count": 5,
   "metadata": {},
   "outputs": [
    {
     "name": "stdout",
     "output_type": "stream",
     "text": [
      "The command you want to execute reads:  ls /Users/ingo/python/pdflib \n",
      "\n"
     ]
    }
   ],
   "source": [
    "command = 'ls'\n",
    "print (\"The command you want to execute reads: \", command + ' ' + pdfpath, '\\n')"
   ]
  },
  {
   "cell_type": "markdown",
   "metadata": {},
   "source": [
    "**2.3** Now that we have specified the program that we want to execute, we can actually do it via making a call to the operation system.\n",
    "\n",
    "**What is new?**\n",
    "* We can now execute any function or program from the operating system. With the help of stdout=subprocess.PIPE we direct the output of the program we call into the communication with the Python script."
   ]
  },
  {
   "cell_type": "code",
   "execution_count": 6,
   "metadata": {},
   "outputs": [
    {
     "name": "stdout",
     "output_type": "stream",
     "text": [
      "The data type of my variable is:  <class 'bytes'> \n",
      "\n"
     ]
    }
   ],
   "source": [
    "# just take the syntax as granted..\n",
    "pobj = subprocess.Popen([command, pdfpath], stdout=subprocess.PIPE, stderr=subprocess.STDOUT) \n",
    "output, error = pobj.communicate() # the function communicate returns a tuple\n",
    "    \n",
    "# we want to learn something about the data type of the variable output using the function type()\n",
    "ot = type(output) \n",
    "print (\"The data type of my variable is: \", ot, '\\n')"
   ]
  },
  {
   "cell_type": "markdown",
   "metadata": {},
   "source": [
    "**2.4** We have successfully executed the _command_ and captured the output via _pobj.communicate_ in the variable _output_. This, however, is of type _byte_. We will now decode it into a variable of type _str_.\n",
    "\n",
    "**What is new?**\n",
    "* The function decode() can be used for decoding a binary data type into a str"
   ]
  },
  {
   "cell_type": "code",
   "execution_count": 7,
   "metadata": {},
   "outputs": [
    {
     "name": "stdout",
     "output_type": "stream",
     "text": [
      "The data type of my variable is now: <class 'str'> \n",
      "\n",
      "E-PhylogenyReconstruction.pdf\n",
      "E.Bookchapter-phylogenomics.pdf\n",
      "E2002.AJHG.pdf\n",
      "E2012a.MBE.pdf\n",
      "E2013.NAR.pdf\n",
      "Koestler2010.BMCBioinf.pdf\n",
      "Koestler2011.GBE.pdf\n",
      "Koestler2012a.MBE.pdf\n",
      "Narechania2012a.GBE.pdf\n",
      "Near2012.PNAS.pdf\n",
      "Negrisolo2010.MBE.pdf\n",
      "Nehrt2011.PloSCompBiol.pdf\n",
      "Nesnidal2010a.MBE.pdf\n",
      "Nguyen2011a.MBE.pdf\n",
      "Nguyen_Feb2009.Masterthesis.pdf\n",
      "Nikolenko2013.BMCGenomics.pdf\n",
      "Nishida1993.MBE.pdf\n",
      "Nitschke2013.BBA.pdf\n",
      "Nover2001.CSC.pdf\n",
      "\n"
     ]
    }
   ],
   "source": [
    "## type conversion using the function decoding()\n",
    "output = output.decode() \n",
    "print (\"The data type of my variable is now:\", type(output), '\\n')\n",
    "print(output)\n",
    "output = output.strip() ## remember, this gets rid of the last '\\n' in the string."
   ]
  },
  {
   "cell_type": "markdown",
   "metadata": {},
   "source": [
    "**2.5** Although the output already looks like a list, it is in fact just a string. You can check it with a print (output[0]). We will therefore convert it now into a list using the function _split()_.\n",
    "\n",
    "**What is new?**\n",
    "* Nothing"
   ]
  },
  {
   "cell_type": "code",
   "execution_count": 8,
   "metadata": {},
   "outputs": [
    {
     "name": "stdout",
     "output_type": "stream",
     "text": [
      "The directory /Users/ingo/python/pdflib has the follwing content:\n",
      "filename is: E-PhylogenyReconstruction.pdf\n",
      "filename is: E.Bookchapter-phylogenomics.pdf\n",
      "filename is: E2002.AJHG.pdf\n",
      "filename is: E2012a.MBE.pdf\n",
      "filename is: E2013.NAR.pdf\n",
      "filename is: Koestler2010.BMCBioinf.pdf\n",
      "filename is: Koestler2011.GBE.pdf\n",
      "filename is: Koestler2012a.MBE.pdf\n",
      "filename is: Narechania2012a.GBE.pdf\n",
      "filename is: Near2012.PNAS.pdf\n",
      "filename is: Negrisolo2010.MBE.pdf\n",
      "filename is: Nehrt2011.PloSCompBiol.pdf\n",
      "filename is: Nesnidal2010a.MBE.pdf\n",
      "filename is: Nguyen2011a.MBE.pdf\n",
      "filename is: Nguyen_Feb2009.Masterthesis.pdf\n",
      "filename is: Nikolenko2013.BMCGenomics.pdf\n",
      "filename is: Nishida1993.MBE.pdf\n",
      "filename is: Nitschke2013.BBA.pdf\n",
      "filename is: Nover2001.CSC.pdf\n"
     ]
    }
   ],
   "source": [
    "pdflist = output.split(\"\\n\") \n",
    "print (\"The directory\",pdfpath,\"has the follwing content:\")\n",
    "## now print the output to the screen (stdout)\n",
    "for entry in pdflist:\n",
    "    print ('filename is:', entry)"
   ]
  },
  {
   "cell_type": "markdown",
   "metadata": {},
   "source": [
    "**2.6** In the next step we want to now apply the _subprocess_ call to convert a PDF into a plain text file. This is necessary as there is no straightforward method in Python to extract contents directly from a PDF. To do so, we will first need to specify the filename for the output file. we want to name the outfile just as the infile but with a different ending. So we use the function _split()_ and define the period '.' as the pattern where to split the string. As a filename can contain more than one '.' we will store everythin up to the last '.' in a list _filecomp_ (see above), and the file ending in the variable _ending_. Subsequently, we concatenate all list elements and append the file ending '.txt'\n",
    "\n",
    "**What is new?**\n",
    "* Just recall the meaning of the asterisk in front of a variable, especially in the context of _split()_"
   ]
  },
  {
   "cell_type": "code",
   "execution_count": 9,
   "metadata": {},
   "outputs": [
    {
     "name": "stdout",
     "output_type": "stream",
     "text": [
      "E-PhylogenyReconstruction.pdf\n",
      "E-PhylogenyReconstruction.txt\n",
      "E.Bookchapter-phylogenomics.pdf\n",
      "E.Bookchapter-phylogenomics.txt\n",
      "E2002.AJHG.pdf\n",
      "E2002.AJHG.txt\n",
      "E2012a.MBE.pdf\n",
      "E2012a.MBE.txt\n",
      "E2013.NAR.pdf\n",
      "E2013.NAR.txt\n",
      "Koestler2010.BMCBioinf.pdf\n",
      "Koestler2010.BMCBioinf.txt\n",
      "Koestler2011.GBE.pdf\n",
      "Koestler2011.GBE.txt\n",
      "Koestler2012a.MBE.pdf\n",
      "Koestler2012a.MBE.txt\n",
      "Narechania2012a.GBE.pdf\n",
      "Narechania2012a.GBE.txt\n",
      "Near2012.PNAS.pdf\n",
      "Near2012.PNAS.txt\n",
      "Negrisolo2010.MBE.pdf\n",
      "Negrisolo2010.MBE.txt\n",
      "Nehrt2011.PloSCompBiol.pdf\n",
      "Nehrt2011.PloSCompBiol.txt\n",
      "Nesnidal2010a.MBE.pdf\n",
      "Nesnidal2010a.MBE.txt\n",
      "Nguyen2011a.MBE.pdf\n",
      "Nguyen2011a.MBE.txt\n",
      "Nguyen_Feb2009.Masterthesis.pdf\n",
      "Nguyen_Feb2009.Masterthesis.txt\n",
      "Nikolenko2013.BMCGenomics.pdf\n",
      "Nikolenko2013.BMCGenomics.txt\n",
      "Nishida1993.MBE.pdf\n",
      "Nishida1993.MBE.txt\n",
      "Nitschke2013.BBA.pdf\n",
      "Nitschke2013.BBA.txt\n",
      "Nover2001.CSC.pdf\n",
      "Nover2001.CSC.txt\n"
     ]
    }
   ],
   "source": [
    "## determine the output path\n",
    "txtpath = 'data/pdf-exercise/txtlib'\n",
    "filelist = {}\n",
    "for pdf in pdflist:\n",
    "    ## \n",
    "    *filecomp, ending = pdf.split('.')\n",
    "    filename = ''\n",
    "    for i in range(len(filecomp)):\n",
    "        filename = filename + filecomp[i] + '.'\n",
    "    \n",
    "    ## now we append the ending '.txt' to the filename\n",
    "    txtfile = filename + 'txt'\n",
    "    filelist[pdf] = txtfile\n",
    "    print (pdf)\n",
    "    print (txtfile)"
   ]
  },
  {
   "cell_type": "markdown",
   "metadata": {},
   "source": [
    "**2.7** We will now proceed to the actual file conversion. For this purpose we will call the external program _pdf2txt.py_. The syntax for using this Python script in the shell is **pdf2txt.py -o paper.txt paper.pdf**. We will put together this program call in the script and then execute it via **subprocess**. Note, as file conversion takes some time, this routine will checke whether the converted txt-file is already existing.\n",
    "\n",
    "**Installing pdf2txt.py**\n",
    "We can install the script `pdf2txt.py` using the Python package manager `pip`. To install the script just run the following two lines from your regular command line (**note** do not run it from your *Jupyter notebook*:\n",
    "\n",
    "```\n",
    "# the first command actually installs the python module\n",
    "\n",
    "pip install pdfminer.six\n",
    "\n",
    "# if you're running linux the next line is something you need to do. Don't worry too much about it. (if you're interested: it removes the Windows lineends from your pdf2txt.py script, which will confuse Linux).\n",
    "\n",
    "sed $'s/\\r//' -i $(which pdf2txt.py)\n",
    "```\n",
    "\n",
    "**What is new?**\n",
    "* The function _os.path.exists()_ can be used to check whether a certain file already exists at a specific position in the file system. The function returns either _True_ or _False_.\n",
    "* The _shell=True_ command in the _subprocess.Popen()_ call tells that the script should execute the specified command via a shell. Note, it is for security reasons often deprecated to use this command."
   ]
  },
  {
   "cell_type": "code",
   "execution_count": 10,
   "metadata": {},
   "outputs": [
    {
     "name": "stdout",
     "output_type": "stream",
     "text": [
      "Done with conversion\n"
     ]
    }
   ],
   "source": [
    "import os\n",
    "## compile the program call\n",
    "command = 'pdf2txt.py'\n",
    "for currpdf, currtxt in filelist.items():\n",
    "    if os.path.exists(txtpath + '/' + currtxt):\n",
    "        pass ## the pdf has already been converted and we do nothing\n",
    "    else:\n",
    "        outfilecomp = '-o ' + txtpath + '/' + currtxt \n",
    "        toexecute = command + ' ' + outfilecomp + ' ' + pdfpath + '/' + currpdf\n",
    "        print (\"We will execute the following command: \", toexecute)\n",
    "\n",
    "        ## execute the program call. Note the shell=True part, that tells Python to execute the command via a shell\n",
    "        p = subprocess.Popen(toexecute, shell=True, stdout=subprocess.PIPE, stderr=subprocess.STDOUT)\n",
    "        out, error = p.communicate() ## we do not really need this line here\n",
    "print (\"Done with conversion\")"
   ]
  },
  {
   "cell_type": "markdown",
   "metadata": {},
   "source": [
    "**2.8** Now that we have generated the txt file version of the pdf, we want to analyse the contents of the publications. To do so, we have to first compile a list of keywords that we want to search for. We will generate a custom function _createDict_ to extract the keywords from a comma-separated string input by the user. These serve then as keys in a dictionary.\n",
    "\n",
    "**What is new?**\n",
    "* Remember how one defines a new function using _def_. Remember also, that the function has to be defined **before** the first call to it. \n",
    "* We define two functions:\n",
    "    * _createDict()_ takes a comma-separated string as argument and generates a dictionary using the comma-separated entities as keys. The values are initialized with 0. Note the default values that are used when the function is called without handing over a string.\n",
    "    * _resetCounts()_ takes a dictionary as argument and resets all values to 0.\n",
    "* Recall that the function strip() is used to remove leading and trailing whitespaces and carriage returns '\\n' from a string.\n",
    "* The function _input()_ is a way to prompt for user input."
   ]
  },
  {
   "cell_type": "code",
   "execution_count": 11,
   "metadata": {},
   "outputs": [
    {
     "name": "stdout",
     "output_type": "stream",
     "text": [
      "Please provide a comma separated list of keywords or leave empty for the default keywords:microsporidia, phylogeny, phylogenetic, genome, alignment, likelihood, plant\n",
      "genome\n",
      "phylogenetic\n",
      "microsporidia\n",
      "likelihood\n",
      "phylogeny\n",
      "plant\n",
      "alignment\n"
     ]
    }
   ],
   "source": [
    "######## a small function to turn elements of a comma separated string into a dictionary\n",
    "## Note the default values for the _str variable key\n",
    "def createDict(keystring='bioinformatics, phylogeny, tree, alignment, evolution'):\n",
    "    keywordlist = keystring.split(',')  \n",
    "    keyworddict = {}\n",
    "    for entry in keywordlist:\n",
    "        entry = entry.strip()\n",
    "        keyworddict[entry] = 0\n",
    "    return(keyworddict)\n",
    "\n",
    "## function cleanDict resets the values of a dictionary to 0 for all keys\n",
    "def resetCounts(keyworddict):\n",
    "    for key in keyworddict:\n",
    "        keyworddict[key] = 0\n",
    "    return keyworddict\n",
    "######## End of the custom function definition\n",
    "\n",
    "## Prompt the user for input\n",
    "keys = input(\"Please provide a comma separated list of keywords or leave empty for the default keywords:\")\n",
    "if len(keys) > 0:\n",
    "    keywords = createDict(keys)\n",
    "else:\n",
    "    # stick with the default list specified in the definition of createDict\n",
    "    keywords = createDict()\n",
    "keylist = keywords.keys()\n",
    "for item in keylist:\n",
    "    print (item)"
   ]
  },
  {
   "cell_type": "markdown",
   "metadata": {},
   "source": [
    "**2.9** As a last step, we need to load the contents of the individual converted PDF files into memory and search for the keywords. \n",
    "\n",
    "**What is new?**\n",
    "* First use of the module **codecs** for opening the file for reading, as this can handle different encodings. The parameter that are handed over are (i) path to file and file name, (ii), a 'r' indicating read access, and (iii) the file encoding.\n",
    "* Recall the function append() that adds elements to the end of a list"
   ]
  },
  {
   "cell_type": "code",
   "execution_count": 12,
   "metadata": {},
   "outputs": [
    {
     "name": "stdout",
     "output_type": "stream",
     "text": [
      "\t E-PhylogenyReconstruction.pdf\n",
      "\t\t genome : 12 times\n",
      "\t\t phylogenetic : 95 times\n",
      "\t\t microsporidia : 0 times\n",
      "\t\t likelihood : 25 times\n",
      "\t\t phylogeny : 20 times\n",
      "\t\t plant : 1 times\n",
      "\t\t alignment : 42 times\n",
      "\t E.Bookchapter-phylogenomics.pdf\n",
      "\t\t genome : 11 times\n",
      "\t\t phylogenetic : 46 times\n",
      "\t\t microsporidia : 0 times\n",
      "\t\t likelihood : 15 times\n",
      "\t\t phylogeny : 20 times\n",
      "\t\t plant : 0 times\n",
      "\t\t alignment : 25 times\n",
      "\t E2002.AJHG.pdf\n",
      "\t\t genome : 29 times\n",
      "\t\t phylogenetic : 0 times\n",
      "\t\t microsporidia : 0 times\n",
      "\t\t likelihood : 0 times\n",
      "\t\t phylogeny : 2 times\n",
      "\t\t plant : 0 times\n",
      "\t\t alignment : 13 times\n",
      "\t E2012a.MBE.pdf\n",
      "\t\t genome : 31 times\n",
      "\t\t phylogenetic : 38 times\n",
      "\t\t microsporidia : 2 times\n",
      "\t\t likelihood : 3 times\n",
      "\t\t phylogeny : 33 times\n",
      "\t\t plant : 4 times\n",
      "\t\t alignment : 20 times\n",
      "\t E2013.NAR.pdf\n",
      "\t\t genome : 14 times\n",
      "\t\t phylogenetic : 25 times\n",
      "\t\t microsporidia : 0 times\n",
      "\t\t likelihood : 3 times\n",
      "\t\t phylogeny : 6 times\n",
      "\t\t plant : 15 times\n",
      "\t\t alignment : 3 times\n",
      "\t Koestler2010.BMCBioinf.pdf\n",
      "\t\t genome : 10 times\n",
      "\t\t phylogenetic : 0 times\n",
      "\t\t microsporidia : 0 times\n",
      "\t\t likelihood : 0 times\n",
      "\t\t phylogeny : 0 times\n",
      "\t\t plant : 1 times\n",
      "\t\t alignment : 0 times\n",
      "\t Koestler2011.GBE.pdf\n",
      "\t\t genome : 12 times\n",
      "\t\t phylogenetic : 13 times\n",
      "\t\t microsporidia : 71 times\n",
      "\t\t likelihood : 2 times\n",
      "\t\t phylogeny : 2 times\n",
      "\t\t plant : 5 times\n",
      "\t\t alignment : 21 times\n",
      "\t Koestler2012a.MBE.pdf\n",
      "\t\t genome : 2 times\n",
      "\t\t phylogenetic : 3 times\n",
      "\t\t microsporidia : 0 times\n",
      "\t\t likelihood : 3 times\n",
      "\t\t phylogeny : 3 times\n",
      "\t\t plant : 0 times\n",
      "\t\t alignment : 16 times\n",
      "\t Narechania2012a.GBE.pdf\n",
      "\t\t genome : 17 times\n",
      "\t\t phylogenetic : 31 times\n",
      "\t\t microsporidia : 0 times\n",
      "\t\t likelihood : 11 times\n",
      "\t\t phylogeny : 5 times\n",
      "\t\t plant : 0 times\n",
      "\t\t alignment : 4 times\n",
      "\t Near2012.PNAS.pdf\n",
      "\t\t genome : 14 times\n",
      "\t\t phylogenetic : 23 times\n",
      "\t\t microsporidia : 0 times\n",
      "\t\t likelihood : 3 times\n",
      "\t\t phylogeny : 31 times\n",
      "\t\t plant : 0 times\n",
      "\t\t alignment : 0 times\n",
      "\t Negrisolo2010.MBE.pdf\n",
      "\t\t genome : 47 times\n",
      "\t\t phylogenetic : 46 times\n",
      "\t\t microsporidia : 0 times\n",
      "\t\t likelihood : 8 times\n",
      "\t\t phylogeny : 9 times\n",
      "\t\t plant : 0 times\n",
      "\t\t alignment : 70 times\n",
      "\t Nehrt2011.PloSCompBiol.pdf\n",
      "\t\t genome : 13 times\n",
      "\t\t phylogenetic : 5 times\n",
      "\t\t microsporidia : 0 times\n",
      "\t\t likelihood : 0 times\n",
      "\t\t phylogeny : 0 times\n",
      "\t\t plant : 0 times\n",
      "\t\t alignment : 3 times\n",
      "\t Nesnidal2010a.MBE.pdf\n",
      "\t\t genome : 5 times\n",
      "\t\t phylogenetic : 16 times\n",
      "\t\t microsporidia : 0 times\n",
      "\t\t likelihood : 11 times\n",
      "\t\t phylogeny : 21 times\n",
      "\t\t plant : 0 times\n",
      "\t\t alignment : 10 times\n",
      "\t Nguyen2011a.MBE.pdf\n",
      "\t\t genome : 4 times\n",
      "\t\t phylogenetic : 8 times\n",
      "\t\t microsporidia : 0 times\n",
      "\t\t likelihood : 30 times\n",
      "\t\t phylogeny : 10 times\n",
      "\t\t plant : 0 times\n",
      "\t\t alignment : 102 times\n",
      "\t Nguyen_Feb2009.Masterthesis.pdf\n",
      "\t\t genome : 1 times\n",
      "\t\t phylogenetic : 5 times\n",
      "\t\t microsporidia : 0 times\n",
      "\t\t likelihood : 0 times\n",
      "\t\t phylogeny : 0 times\n",
      "\t\t plant : 0 times\n",
      "\t\t alignment : 237 times\n",
      "\t Nikolenko2013.BMCGenomics.pdf\n",
      "\t\t genome : 19 times\n",
      "\t\t phylogenetic : 0 times\n",
      "\t\t microsporidia : 0 times\n",
      "\t\t likelihood : 6 times\n",
      "\t\t phylogeny : 0 times\n",
      "\t\t plant : 0 times\n",
      "\t\t alignment : 0 times\n",
      "\t Nishida1993.MBE.pdf\n",
      "\t\t genome : 0 times\n",
      "\t\t phylogenetic : 13 times\n",
      "\t\t microsporidia : 0 times\n",
      "\t\t likelihood : 1 times\n",
      "\t\t phylogeny : 1 times\n",
      "\t\t plant : 2 times\n",
      "\t\t alignment : 1 times\n",
      "\t Nitschke2013.BBA.pdf\n",
      "\t\t genome : 2 times\n",
      "\t\t phylogenetic : 15 times\n",
      "\t\t microsporidia : 0 times\n",
      "\t\t likelihood : 0 times\n",
      "\t\t phylogeny : 3 times\n",
      "\t\t plant : 0 times\n",
      "\t\t alignment : 0 times\n",
      "\t Nover2001.CSC.pdf\n",
      "\t\t genome : 2 times\n",
      "\t\t phylogenetic : 9 times\n",
      "\t\t microsporidia : 0 times\n",
      "\t\t likelihood : 0 times\n",
      "\t\t phylogeny : 0 times\n",
      "\t\t plant : 32 times\n",
      "\t\t alignment : 0 times\n"
     ]
    }
   ],
   "source": [
    "import codecs\n",
    "count = 0\n",
    "result = []\n",
    "for currpdf in pdflist:\n",
    "    print (\"\\t\", currpdf)\n",
    "    currtxt = filelist[currpdf]\n",
    "    filehandle = codecs.open(txtpath + '/' + currtxt,'r', encoding='UTF-8')\n",
    "    content = []\n",
    "    content = filehandle.readlines()\n",
    "    for lines in content:\n",
    "        for entry in keywords.keys():\n",
    "            if entry in lines:\n",
    "                keywords[entry] += 1\n",
    "    intlist = []\n",
    "    for entry in keylist:\n",
    "        print (\"\\t\\t\", entry, ':', keywords[entry], \"times\")\n",
    "        intlist.append(keywords[entry])\n",
    "    result.append(intlist)\n",
    "    count += 1    \n",
    "    keywords = resetCounts(keywords)"
   ]
  },
  {
   "cell_type": "markdown",
   "metadata": {},
   "source": [
    "**2.10** Lastly, we will now visualize our results in a heatmap using **numpy** and **matplotlib.pyplot**\n",
    "\n",
    "**What is new?**\n",
    "* Recall the way to plot arrays in a heatmap (cf. Topic 1)\n",
    "* We learn how to modify the ticklabels of the x- and the y-axis using the function matplotlib.plot.xticks and .ytics, respectively. The functions take as arguments (i) the number of ticks, (ii) the list of names to be used, and optionally (iii) the rotation angle."
   ]
  },
  {
   "cell_type": "code",
   "execution_count": 14,
   "metadata": {},
   "outputs": [
    {
     "data": {
      "image/png": "[encoded data removed]",
      "text/plain": [
       "<matplotlib.figure.Figure at 0x10a03b6a0>"
      ]
     },
     "metadata": {},
     "output_type": "display_data"
    }
   ],
   "source": [
    "import numpy as np\n",
    "import matplotlib.pyplot as plt\n",
    "% matplotlib inline\n",
    "\n",
    "## we will have to transform the nested list _result_ from the previous routine\n",
    "## into an array\n",
    "data = np.array(result)\n",
    "\n",
    "## we hand now the data over to matplotlib.pyplot to generate an image object \n",
    "image  = plt.imshow(data)\n",
    "\n",
    "## Now we modify the tick labels of the x- and the y-axis\n",
    "## to match the pdfnames and the keywords\n",
    "plt.xticks (np.arange(len(keylist)), (keylist), rotation = -90)\n",
    "plt.yticks( np.arange(len(pdflist)), (pdflist) )\n",
    "\n",
    "## and we plot the heatmap\n",
    "plt.show()"
   ]
  }
 ],
 "metadata": {
  "kernelspec": {
   "display_name": "Python 3",
   "language": "python",
   "name": "python3"
  },
  "language_info": {
   "codemirror_mode": {
    "name": "ipython",
    "version": 3
   },
   "file_extension": ".py",
   "mimetype": "text/x-python",
   "name": "python",
   "nbconvert_exporter": "python",
   "pygments_lexer": "ipython3",
   "version": "3.5.3"
  }
 },
 "nbformat": 4,
 "nbformat_minor": 1
}
