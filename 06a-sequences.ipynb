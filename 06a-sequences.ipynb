{
 "cells": [
  {
   "cell_type": "markdown",
   "metadata": {},
   "source": [
    "# Biopython: Working with Sequences\n",
    "In this part we want to learn how to work with nucleotide and amino acid sequence files. For this we will use the package [*Biopython*](biopython.org), which provides a lot of functions to read/modify/write sequence files. \n",
    "\n",
    "By default `Anaconda` does not come with Biopython installed. But you can easily do this by opening a new terminal on your machine and running the following command:\n",
    "\n",
    "```\n",
    "conda install biopython\n",
    "```\n",
    "\n",
    "It will ask you whether you want to newly install the package, answer `yes` and wait for a bit for the installation to finish.\n"
   ]
  },
  {
   "cell_type": "markdown",
   "metadata": {},
   "source": [
    "## Reading sequence files\n",
    "The most common sequence formats you will encounter are `*.fasta` (the file ending is also sometimes written as `*.fa`) and `*.fastq` (or `*.fq`). Biopython comes with functions to read in these files. These can [be found in the `SeqIO` module](http://biopython.org/wiki/SeqIO) (see the link for further supported file formats if you're interested in that). \n",
    "\n",
    "[Download some test-sequences which are in sequences.zip](./sequences.zip) and extract them in your `Downloads` folder."
   ]
  },
  {
   "cell_type": "code",
   "execution_count": 1,
   "metadata": {},
   "outputs": [
    {
     "name": "stdout",
     "output_type": "stream",
     "text": [
      "ID: Laspu_000001\n",
      "Name: Laspu_000001\n",
      "Description: Laspu_000001\n",
      "Number of features: 0\n",
      "Seq('ATGCCTTCGCAAGAGGATTGCATTCAAAAAGATCCCTCCAAGTATCCCAATGAG...TGA', SingleLetterAlphabet())\n"
     ]
    }
   ],
   "source": [
    "# you can load the SeqIO module from Biopython in the following way\n",
    "from Bio import SeqIO\n",
    "\n",
    "# to open and read a file, sequence by sequence, you can use the following command\n",
    "for sequence in SeqIO.parse(\"sequences/coding_sequences.fasta\",\"fasta\"):\n",
    "    print(sequence)\n",
    "    break"
   ]
  },
  {
   "cell_type": "markdown",
   "metadata": {},
   "source": [
    "The function `SeqIO.parse()` opens a file and reads it. The first positional parameter gives the location of the file we want to read (in this case `sequences/coding_sequences.fasta`), the second parameter specifies the file format (here a simple `fasta`). The easiest way to use `SeqIO` is in a simple `for`-loop. Unlike the regular `for i in open(file,\"r\")`, which returns a single line per loop-iteration, a `for`-loop with `SeqIO` returns a single sequence object per line. \n",
    "\n",
    "*note: we only use the `break` to keep the output clean, this stops the loop after the first iteration, so that we won't get all sequences printed into our `jupyter notebook`.*\n",
    "\n",
    "Printing a single `sequence` we see that the returned object contains not only the sequence as `Seq`, but also some metadata, like the `ID`, `Name` and `Description`. We can access the individual fields of the sequence object like this:\n"
   ]
  },
  {
   "cell_type": "code",
   "execution_count": 2,
   "metadata": {},
   "outputs": [
    {
     "name": "stdout",
     "output_type": "stream",
     "text": [
      "this is the sequence name: Laspu_000001\n",
      "this is the sequence itself: ATGCCTTCGCAAGAGGATTGCATTCAAAAAGATCCCTCCAAGTATCCCAATGAGATGGCTTGGTCGCACCGCTTTCAATATCTACCGTTTGATGTCAAATTTGACAAGAGAGGCGAAGGAGGGTCTCATACCAGAGTAATCAGCTACATCAACAACGTACACCCAGCAGCCCACCAATACTTCTACAGCGTTGTAGAAAAATTGATCGACGTAACCATCCCCATGTTCAACCAAACACTCACAGACATCAAAGCCCCCGGCTACTCAAATCAGCGTTTCCACGTCGCCGTCCTAGGACGCGACCCTATGATCGTAAAAGAACCAGGGGATTTCCATCCACCCCAACAGCGAGCCACACGACAATGGCTAGATTCCCAAGGCCGCTTCCAAGATTGGCTATTTGTAGATCTGGAGAAGGAGTTCTGGAACATTGGCCTGCAAATGATCCTGCGCGTTACAGAAATCAACCTCACCCCCGAAAAGCCGCGCTATGATGGTGAGGAATGGCATGTCCAGGGGCGAATGAATGAGCGTATTTGCGCCACTGCAGTCTACACCTACGGTATTCACAACACGACGCCGGCTTCCCTCTCCTTCCGCCGCCGCATTAACGCCGAAGAAGCCATGCTCGCCAAGGACTACATCCAGTCCCCGCCCTGGGCGCCTGAGCTCTACGGCGCCCGCTCCGGCGACCCGGTCATCCAGCATATGGGCGACATCACTATTTCTGAGAACCGGCTCGTCACATACCCGAACATCTTCCAAACGCGCTTGCTCCCGATTGAGCTAGTTGATATGAGCAAGCCAGGCCACGTCAAGCTACTAACGCTGCATCTTGTCGACCCCAACAGACGGATGATGAGCACAGCCATGGTACCGCCCCAACGGCGGGACTGGTGGGCGCGAGAGGTAAGGGTGGACAATGCGAGGTTTTGGCGGCTGCCCAGAGAGGTCTGGGATAAGATCGTGGAGATGGTGGACGAGTATCCGATAGGGACGGAGGAAGGGGAGGAAATGAGGCAGGAGTTTAAGGCGGAAAGTGAGAGGGCGAGGGAGAAGCATACGAGGGCTATGATGAATTATTTGGAGTGGGATTTGGATTGGGAAGATAATGATTCGGTCTATGTGTGA\n"
     ]
    }
   ],
   "source": [
    "for sequence in SeqIO.parse(\"sequences/coding_sequences.fasta\",\"fasta\"):\n",
    "    print(\"this is the sequence name:\", sequence.name)\n",
    "    print(\"this is the sequence itself:\", sequence.seq)\n",
    "    break"
   ]
  },
  {
   "cell_type": "markdown",
   "metadata": {},
   "source": [
    "The `sequence.seq` object can be sliced like a regular string: "
   ]
  },
  {
   "cell_type": "code",
   "execution_count": 3,
   "metadata": {},
   "outputs": [
    {
     "name": "stdout",
     "output_type": "stream",
     "text": [
      "ATGCCTTCGC\n"
     ]
    }
   ],
   "source": [
    "print(sequence.seq[0:10])"
   ]
  },
  {
   "cell_type": "markdown",
   "metadata": {},
   "source": [
    "But while the `sequence.seq` content looks like a regular `string`, it is indeed a special data type:"
   ]
  },
  {
   "cell_type": "code",
   "execution_count": 4,
   "metadata": {},
   "outputs": [
    {
     "data": {
      "text/plain": [
       "Bio.Seq.Seq"
      ]
     },
     "execution_count": 4,
     "metadata": {},
     "output_type": "execute_result"
    }
   ],
   "source": [
    "type(sequence.seq)"
   ]
  },
  {
   "cell_type": "markdown",
   "metadata": {},
   "source": [
    "Thanks to this we can access some special functions which would not be available for regular strings:"
   ]
  },
  {
   "cell_type": "code",
   "execution_count": 5,
   "metadata": {},
   "outputs": [
    {
     "name": "stdout",
     "output_type": "stream",
     "text": [
      "sequence: ATGCCTTCGC\n",
      "complement: TACGGAAGCG\n",
      "---\n",
      "reverse: AGTGTGTATC\n",
      "reverse complement: TCACACATAG\n"
     ]
    }
   ],
   "source": [
    "print(\"sequence:\", sequence.seq[0:10])\n",
    "print(\"complement:\", sequence.seq.complement()[:10])\n",
    "print(\"---\")\n",
    "print(\"reverse:\", sequence.seq[-10:][::-1])\n",
    "print(\"reverse complement:\", sequence.seq.reverse_complement()[:10])"
   ]
  },
  {
   "cell_type": "markdown",
   "metadata": {},
   "source": [
    "We can not only get the complement and reverse complement, but also directly translate a coding sequence to amino acids:"
   ]
  },
  {
   "cell_type": "code",
   "execution_count": 6,
   "metadata": {},
   "outputs": [
    {
     "data": {
      "text/plain": [
       "Seq('MPSQEDCIQKDPSKYPNEMAWSHRFQYLPFDVKFDKRGEGGSHTRVISYINNVH...YV*', HasStopCodon(ExtendedIUPACProtein(), '*'))"
      ]
     },
     "execution_count": 6,
     "metadata": {},
     "output_type": "execute_result"
    }
   ],
   "source": [
    "sequence.seq.translate()"
   ]
  },
  {
   "cell_type": "markdown",
   "metadata": {},
   "source": [
    "You can also write sequence files using `SeqIO`. For this you can open a new file-handle and subsequently use the `SeqIO.write()` function to write. \n",
    "\n",
    "*tip: this can easily be used for converting files from one format to another*"
   ]
  },
  {
   "cell_type": "code",
   "execution_count": 7,
   "metadata": {
    "collapsed": true
   },
   "outputs": [],
   "source": [
    "with open(\"example.faa\", \"w\") as handle:\n",
    "    SeqIO.write(sequence, handle, \"fasta\")\n",
    "handle.close()"
   ]
  },
  {
   "cell_type": "markdown",
   "metadata": {},
   "source": [
    "## Tasks\n",
    "1. Read the sequences in `coding_sequences.fasta`, calculate the overall G/C content for each of the sequences and save them in a dictionary, using the `sequence.name` as the key and the G/C content as the value.\n",
    "2. Translate the sequences in `coding_sequences.fasta` to amino acids and save them in a new file called `proteins.fasta`.\n",
    "3. Some tools don't like to have the terminal stop codons `*` in the translated amino acids. Additionally create a second file `proteins_no_stop.fasta`, which does not contain the `*`."
   ]
  },
  {
   "cell_type": "markdown",
   "metadata": {},
   "source": [
    "## Reading FASTQ\n",
    "`fastq` files can be read in the same way that `fasta` files are: "
   ]
  },
  {
   "cell_type": "code",
   "execution_count": 8,
   "metadata": {},
   "outputs": [
    {
     "name": "stdout",
     "output_type": "stream",
     "text": [
      "ID: M01527:37:000000000-A59BM:1:1101:13813:1836\n",
      "Name: M01527:37:000000000-A59BM:1:1101:13813:1836\n",
      "Description: M01527:37:000000000-A59BM:1:1101:13813:1836 1:N:0:1\n",
      "Number of features: 0\n",
      "Per letter annotation for: phred_quality\n",
      "Seq('AAGAGTATTGTCACAAGACTGCTTGTTAATGCTATGCTGATTGGGCTTTGGTTG...CAC', SingleLetterAlphabet())\n"
     ]
    }
   ],
   "source": [
    "for sequence in SeqIO.parse(\"sequences/rp_forward.fastq\",\"fastq\"):\n",
    "    print(sequence)\n",
    "    break"
   ]
  },
  {
   "cell_type": "markdown",
   "metadata": {},
   "source": [
    "Reading in our sequencing reads we find a picture that's similar to the `fasta` files. Alas, unlike the `fasta` files, the `fastq` files contains additional metadata about our sequence, the `phred_quality`, which gives a quality score for each of the positions in the sequence. We can access these like this:"
   ]
  },
  {
   "cell_type": "code",
   "execution_count": 9,
   "metadata": {},
   "outputs": [
    {
     "data": {
      "text/plain": [
       "[33, 33, 33, 33, 33, 37, 37, 37, 37, 33]"
      ]
     },
     "execution_count": 9,
     "metadata": {},
     "output_type": "execute_result"
    }
   ],
   "source": [
    "sequence.letter_annotations[\"phred_quality\"][:10] # we only access the first 10 values, to keep things cleaner"
   ]
  },
  {
   "cell_type": "markdown",
   "metadata": {},
   "source": [
    "Let us now try to plot the average phred-values for each position over all of our sequencing reads:"
   ]
  },
  {
   "cell_type": "code",
   "execution_count": 10,
   "metadata": {},
   "outputs": [
    {
     "data": {
      "image/png": "[encoded data removed]",
      "text/plain": [
       "<matplotlib.figure.Figure at 0x104c315c0>"
      ]
     },
     "metadata": {},
     "output_type": "display_data"
    }
   ],
   "source": [
    "import matplotlib.pyplot\n",
    "import numpy\n",
    "\n",
    "# initialize empty list to store the list of quality-values per read\n",
    "phred_scores_per_read = []\n",
    "\n",
    "# read in all sequences and append the phred scores\n",
    "for sequence in SeqIO.parse(\"sequences/rp_forward.fastq\",\"fastq\"):\n",
    "    phred_scores_per_read.append(sequence.letter_annotations[\"phred_quality\"])\n",
    "\n",
    "# convert our \"list of lists\" into a proper numpy array\n",
    "phred_scores_per_read = numpy.array(phred_scores_per_read)\n",
    "\n",
    "# calculate the mean phred scores per position and \n",
    "# plot them with matplotlib\n",
    "\n",
    "mean_phred_scores = phred_scores_per_read.mean(axis=0)\n",
    "mean_phred_plot = matplotlib.pyplot.plot(mean_phred_scores)\n",
    "matplotlib.pyplot.show()"
   ]
  },
  {
   "cell_type": "markdown",
   "metadata": {},
   "source": [
    "## Tasks\n",
    "We see that the quality scores drop towards the 3' end of our sequencing reads. This can lead to problems for subsequent analyses, like when mapping the reads against a reference genome or doing a *de novo* genome assembly. We thus want to investigate these effects a bit more:\n",
    "\n",
    "1. Write a function `fastq_quality()` that takes a `fastq` file name as input parameter and returns the `phred_quality` values as a `numpy.array()`\n",
    "2. Write an function `analyze()` that takes the `numpy.array()` generated by `fastq_quality()` and uses `matplotlib` to visualize the `mean`, `min`, `max` phred-scores per position (c.f. the inflammation examples earlier)\n",
    "3. Generate these plots for all 6 `fastq` files that are contained in your `sequences` folder (remember the `glob` module). What differences do you find between the genomic read pairs (`rp_*`), the genomic mate pairs (`mp_*`) and the RNAseq read pairs (`rna_*`)?\n",
    "\n",
    "**Important**\n",
    "\n",
    "You might notice that the `rna_forward.fastq` and `rna_reverse.fastq` can't be handled by `phred_scores_per_read.mean(axis=0)`. This is because the sequences in these files are of different lengths! You can get around this by making sure that all rows (i.e. each list of phred scores) have the same length nevertheless. To achieve this you can fill up the shorter rows with `0` until they are of the same length. You can use `numpy` to fix this:\n",
    "\n",
    "```\n",
    "max_len = numpy.max([len(row) for row in phred_scores])\n",
    "phred_scores = numpy.asarray([numpy.pad(row, (0, max_len - len(row)), 'constant', constant_values=0) for row in phred_scores])\n",
    "```\n",
    "After modifying your phred-score `numpy.array()` like this you can use `.mean(axis=0)` as you would expect (Don't be too concerned about how this works)."
   ]
  },
  {
   "cell_type": "code",
   "execution_count": null,
   "metadata": {},
   "outputs": [],
   "source": [
    "def fastq_quality(sequence_file):\n",
    "    phred_scores_per_read = []\n",
    "    for sequence in SeqIO.parse(sequence_file,\"fastq\"):\n",
    "        phred_scores_per_read.append(sequence.letter_annotations[\"phred_quality\"])\n",
    "\n",
    "    # convert our \"list of lists\" into a proper numpy array\n",
    "    phred_scores_per_read = numpy.array(phred_scores_per_read)\n",
    "    return phred_scores_per_read\n",
    "\n",
    "def analyze(phred_scores):\n",
    "    max_len = numpy.max([len(a) for a in phred_scores])\n",
    "    phred_scores = numpy.asarray([numpy.pad(a, (0, max_len - len(a)), 'constant', constant_values=0) for a in phred_scores])\n",
    "    mean_phred_scores = phred_scores.mean(axis=0)\n",
    "    mean_phred_plot = matplotlib.pyplot.plot(mean_phred_scores)\n",
    "    matplotlib.pyplot.show()\n",
    "\n",
    "import glob\n",
    "for i in glob.glob(\"sequences/*.fastq\"):\n",
    "    print(i)\n",
    "    phred_scores = fastq_quality(i)\n",
    "    analyze(phred_scores)"
   ]
  },
  {
   "cell_type": "code",
   "execution_count": null,
   "metadata": {
    "collapsed": true
   },
   "outputs": [],
   "source": []
  },
  {
   "cell_type": "code",
   "execution_count": null,
   "metadata": {
    "collapsed": true
   },
   "outputs": [],
   "source": []
  }
 ],
 "metadata": {
  "kernelspec": {
   "display_name": "Python 3",
   "language": "python",
   "name": "python3"
  },
  "language_info": {
   "codemirror_mode": {
    "name": "ipython",
    "version": 3
   },
   "file_extension": ".py",
   "mimetype": "text/x-python",
   "name": "python",
   "nbconvert_exporter": "python",
   "pygments_lexer": "ipython3",
   "version": "3.5.3"
  }
 },
 "nbformat": 4,
 "nbformat_minor": 2
}
